{
 "cells": [
  {
   "cell_type": "code",
   "execution_count": 1,
   "id": "dcfc40c2",
   "metadata": {},
   "outputs": [],
   "source": [
    "import numpy as np\n",
    "import pandas as pd\n",
    "import seaborn as sns\n",
    "import matplotlib.pyplot as plt\n",
    "\n",
    "from sklearn.model_selection import train_test_split\n",
    "from sklearn import metrics\n",
    "from sklearn.preprocessing import StandardScaler\n",
    "from sklearn.decomposition import PCA"
   ]
  },
  {
   "cell_type": "code",
   "execution_count": 2,
   "id": "93054b7a",
   "metadata": {},
   "outputs": [],
   "source": [
    "heart_df = pd.read_csv('./heart_df_cleaned.csv')\n",
    "ori_df = pd.read_csv('./heart_disease_health_indicators_BRFSS2015.csv')"
   ]
  },
  {
   "cell_type": "code",
   "execution_count": 3,
   "id": "572f03b7",
   "metadata": {},
   "outputs": [
    {
     "name": "stdout",
     "output_type": "stream",
     "text": [
      "Target distribution(%):\n",
      "0.0    89.68\n",
      "1.0    10.32\n",
      "Name: HeartDiseaseorAttack, dtype: float64\n"
     ]
    }
   ],
   "source": [
    "print('Target distribution(%):') \n",
    "print(np.round(heart_df['HeartDiseaseorAttack'].value_counts(normalize=True)*100, 2))"
   ]
  },
  {
   "cell_type": "code",
   "execution_count": 4,
   "id": "6b5e01d4",
   "metadata": {},
   "outputs": [
    {
     "name": "stdout",
     "output_type": "stream",
     "text": [
      "Before undersampling: Counter({0.0: 206064, 1.0: 23717})\n",
      "After undersampling: Counter({0.0: 47434, 1.0: 23717})\n"
     ]
    }
   ],
   "source": [
    "from imblearn.under_sampling import RandomUnderSampler\n",
    "from collections import Counter\n",
    "\n",
    "#https://www.kaggle.com/code/hadeerismail/heart-disease-prediction#Dealing-with-the-imbalance-problem-with-multiple-ways\n",
    "under_sampler = RandomUnderSampler(sampling_strategy=0.5)\n",
    "x = heart_df.iloc[:, 1:]\n",
    "y = heart_df['HeartDiseaseorAttack']\n",
    "x_under, y_under = under_sampler.fit_resample(x, y)\n",
    "\n",
    "print(f'Before undersampling: {Counter(heart_df[\"HeartDiseaseorAttack\"])}')\n",
    "print(f'After undersampling: {Counter(y_under)}')"
   ]
  },
  {
   "cell_type": "code",
   "execution_count": 5,
   "id": "2bab0270",
   "metadata": {},
   "outputs": [],
   "source": [
    "cor_matrix = x_under.corr()\n",
    "upper_tri = cor_matrix.where(np.triu(np.ones(cor_matrix.shape),k=1).astype(bool))\n",
    "\n",
    "#drop both highly correlated columns\n",
    "to_drop = [column for column in upper_tri.columns if any(upper_tri[column] > 0.7) or any(upper_tri[column] < 0.01)]"
   ]
  },
  {
   "cell_type": "code",
   "execution_count": 6,
   "id": "31234075",
   "metadata": {},
   "outputs": [],
   "source": [
    "#Data Scaling\n",
    "scaler = StandardScaler()\n",
    "scaled_features = scaler.fit_transform(x_under)"
   ]
  },
  {
   "cell_type": "code",
   "execution_count": 7,
   "id": "749156df",
   "metadata": {},
   "outputs": [],
   "source": [
    "X_train, X_test, y_train, y_test = train_test_split(scaled_features, y_under, test_size=0.20, random_state = 41)"
   ]
  },
  {
   "cell_type": "code",
   "execution_count": 8,
   "id": "0d6fff7f",
   "metadata": {},
   "outputs": [
    {
     "name": "stdout",
     "output_type": "stream",
     "text": [
      "Logistic Regression Classifier Accuracy:  0.7693767128100626\n",
      "Logistic Regression Classifier Precision:  0.6827568404749613\n",
      "Logistic Regression Classifier Recall:  0.5630055342699021\n",
      "Logistic Regression Classifier AUC Score:  0.7170424713204121\n"
     ]
    }
   ],
   "source": [
    "from sklearn.linear_model import LogisticRegression\n",
    "lr = LogisticRegression()\n",
    "lr.fit(X_train, y_train)\n",
    "y_lr = lr.predict(X_test)\n",
    "print(\"Logistic Regression Classifier Accuracy: \", metrics.accuracy_score(y_test, y_lr))\n",
    "print(\"Logistic Regression Classifier Precision: \", metrics.precision_score(y_test, y_lr))\n",
    "print(\"Logistic Regression Classifier Recall: \", metrics.recall_score(y_test, y_lr))\n",
    "print(\"Logistic Regression Classifier AUC Score: \", metrics.roc_auc_score(y_test, y_lr))"
   ]
  },
  {
   "cell_type": "code",
   "execution_count": 9,
   "id": "6adcfe11",
   "metadata": {},
   "outputs": [
    {
     "name": "stdout",
     "output_type": "stream",
     "text": [
      "Random Forest Classifier Accuracy:  0.754901271871267\n",
      "Random Forest Classifier Precision:  0.6460647030420087\n",
      "Random Forest Classifier Recall:  0.5696040868454662\n",
      "Random Forest Classifier AUC Score:  0.7079112430450976\n"
     ]
    }
   ],
   "source": [
    "from sklearn.ensemble import RandomForestClassifier\n",
    "rf = RandomForestClassifier()\n",
    "rf.fit(X_train, y_train)\n",
    "y_rf = rf.predict(X_test)\n",
    "print(\"Random Forest Classifier Accuracy: \", metrics.accuracy_score(y_test, y_rf))\n",
    "print(\"Random Forest Classifier Precision: \", metrics.precision_score(y_test, y_rf))\n",
    "print(\"Random Forest Classifier Recall: \", metrics.recall_score(y_test, y_rf))\n",
    "print(\"Random Forest Classifier AUC Score: \", metrics.roc_auc_score(y_test, y_rf))"
   ]
  },
  {
   "cell_type": "code",
   "execution_count": 10,
   "id": "9ae4ef60",
   "metadata": {},
   "outputs": [
    {
     "name": "stdout",
     "output_type": "stream",
     "text": [
      "KNN Classifier Accuracy:  0.7097182207856089\n",
      "KNN Classifier Precision:  0.613083366573594\n",
      "KNN Classifier Recall:  0.3271604938271605\n",
      "KNN Classifier AUC Score:  0.6127043421616659\n"
     ]
    }
   ],
   "source": [
    "from sklearn.neighbors import KNeighborsClassifier\n",
    "\n",
    "knn = KNeighborsClassifier(n_neighbors = 2)\n",
    "knn.fit(X_train, y_train)\n",
    "y_knn = knn.predict(X_test)\n",
    "print(\"KNN Classifier Accuracy: \", metrics.accuracy_score(y_test, y_knn))\n",
    "print(\"KNN Classifier Precision: \", metrics.precision_score(y_test, y_knn))\n",
    "print(\"KNN Classifier Recall: \", metrics.recall_score(y_test, y_knn))\n",
    "print(\"KNN Classifier AUC Score: \", metrics.roc_auc_score(y_test, y_knn))"
   ]
  },
  {
   "cell_type": "code",
   "execution_count": 11,
   "id": "8bb31ff6",
   "metadata": {},
   "outputs": [
    {
     "name": "stdout",
     "output_type": "stream",
     "text": [
      "Gaussian Naive Bayes Classifier Accuracy:  0.7352961843861991\n",
      "Gaussian Naive Bayes Classifier Precision:  0.5904410336118127\n",
      "Gaussian Naive Bayes Classifier Recall:  0.6468710089399745\n",
      "Gaussian Naive Bayes Classifier F1 Score:  0.7128721980606723\n"
     ]
    }
   ],
   "source": [
    "from sklearn.naive_bayes import GaussianNB\n",
    "\n",
    "gnb = GaussianNB()\n",
    "gnb.fit(X_train, y_train)\n",
    "y_gnb = gnb.predict(X_test)\n",
    "print(\"Gaussian Naive Bayes Classifier Accuracy: \", metrics.accuracy_score(y_test, y_gnb))\n",
    "print(\"Gaussian Naive Bayes Classifier Precision: \", metrics.precision_score(y_test, y_gnb))\n",
    "print(\"Gaussian Naive Bayes Classifier Recall: \", metrics.recall_score(y_test, y_gnb))\n",
    "print(\"Gaussian Naive Bayes Classifier F1 Score: \", metrics.roc_auc_score(y_test, y_gnb))"
   ]
  },
  {
   "cell_type": "code",
   "execution_count": 12,
   "id": "f15ce72b",
   "metadata": {},
   "outputs": [
    {
     "data": {
      "text/html": [
       "<style type=\"text/css\">\n",
       "</style>\n",
       "<table id=\"T_2f0b5\">\n",
       "  <caption>Model Evaluation Table Using All Features</caption>\n",
       "  <thead>\n",
       "    <tr>\n",
       "      <th class=\"blank level0\" >&nbsp;</th>\n",
       "      <th id=\"T_2f0b5_level0_col0\" class=\"col_heading level0 col0\" >Model</th>\n",
       "      <th id=\"T_2f0b5_level0_col1\" class=\"col_heading level0 col1\" >Accuracy</th>\n",
       "      <th id=\"T_2f0b5_level0_col2\" class=\"col_heading level0 col2\" >Precision</th>\n",
       "      <th id=\"T_2f0b5_level0_col3\" class=\"col_heading level0 col3\" >Recall</th>\n",
       "      <th id=\"T_2f0b5_level0_col4\" class=\"col_heading level0 col4\" >AUC Score</th>\n",
       "    </tr>\n",
       "  </thead>\n",
       "  <tbody>\n",
       "    <tr>\n",
       "      <th id=\"T_2f0b5_level0_row0\" class=\"row_heading level0 row0\" >0</th>\n",
       "      <td id=\"T_2f0b5_row0_col0\" class=\"data row0 col0\" >Logisitic Regression</td>\n",
       "      <td id=\"T_2f0b5_row0_col1\" class=\"data row0 col1\" >0.769377</td>\n",
       "      <td id=\"T_2f0b5_row0_col2\" class=\"data row0 col2\" >0.682757</td>\n",
       "      <td id=\"T_2f0b5_row0_col3\" class=\"data row0 col3\" >0.563006</td>\n",
       "      <td id=\"T_2f0b5_row0_col4\" class=\"data row0 col4\" >0.717042</td>\n",
       "    </tr>\n",
       "    <tr>\n",
       "      <th id=\"T_2f0b5_level0_row1\" class=\"row_heading level0 row1\" >1</th>\n",
       "      <td id=\"T_2f0b5_row1_col0\" class=\"data row1 col0\" >Random Forest Classifier</td>\n",
       "      <td id=\"T_2f0b5_row1_col1\" class=\"data row1 col1\" >0.754901</td>\n",
       "      <td id=\"T_2f0b5_row1_col2\" class=\"data row1 col2\" >0.646065</td>\n",
       "      <td id=\"T_2f0b5_row1_col3\" class=\"data row1 col3\" >0.569604</td>\n",
       "      <td id=\"T_2f0b5_row1_col4\" class=\"data row1 col4\" >0.707911</td>\n",
       "    </tr>\n",
       "    <tr>\n",
       "      <th id=\"T_2f0b5_level0_row2\" class=\"row_heading level0 row2\" >2</th>\n",
       "      <td id=\"T_2f0b5_row2_col0\" class=\"data row2 col0\" >K-NN Classifier</td>\n",
       "      <td id=\"T_2f0b5_row2_col1\" class=\"data row2 col1\" >0.709718</td>\n",
       "      <td id=\"T_2f0b5_row2_col2\" class=\"data row2 col2\" >0.613083</td>\n",
       "      <td id=\"T_2f0b5_row2_col3\" class=\"data row2 col3\" >0.327160</td>\n",
       "      <td id=\"T_2f0b5_row2_col4\" class=\"data row2 col4\" >0.612704</td>\n",
       "    </tr>\n",
       "    <tr>\n",
       "      <th id=\"T_2f0b5_level0_row3\" class=\"row_heading level0 row3\" >3</th>\n",
       "      <td id=\"T_2f0b5_row3_col0\" class=\"data row3 col0\" >Gaussian NB Classifier</td>\n",
       "      <td id=\"T_2f0b5_row3_col1\" class=\"data row3 col1\" >0.735296</td>\n",
       "      <td id=\"T_2f0b5_row3_col2\" class=\"data row3 col2\" >0.590441</td>\n",
       "      <td id=\"T_2f0b5_row3_col3\" class=\"data row3 col3\" >0.646871</td>\n",
       "      <td id=\"T_2f0b5_row3_col4\" class=\"data row3 col4\" >0.712872</td>\n",
       "    </tr>\n",
       "  </tbody>\n",
       "</table>\n"
      ],
      "text/plain": [
       "<pandas.io.formats.style.Styler at 0x15c31643430>"
      ]
     },
     "execution_count": 12,
     "metadata": {},
     "output_type": "execute_result"
    }
   ],
   "source": [
    "acc_table = pd.DataFrame({'Model': ['Logisitic Regression',\n",
    "                                   'Random Forest Classifier',\n",
    "                                   'K-NN Classifier',\n",
    "                                   'Gaussian NB Classifier'],\n",
    "                         'Accuracy': [metrics.accuracy_score(y_test, y_lr),\n",
    "                                        metrics.accuracy_score(y_test, y_rf),\n",
    "                                        metrics.accuracy_score(y_test, y_knn),\n",
    "                                        metrics.accuracy_score(y_test, y_gnb)],\n",
    "                         'Precision': [metrics.precision_score(y_test, y_lr),\n",
    "                                        metrics.precision_score(y_test, y_rf),\n",
    "                                        metrics.precision_score(y_test, y_knn),\n",
    "                                        metrics.precision_score(y_test, y_gnb)],\n",
    "                         'Recall': [metrics.recall_score(y_test, y_lr),\n",
    "                                        metrics.recall_score(y_test, y_rf),\n",
    "                                        metrics.recall_score(y_test, y_knn),\n",
    "                                        metrics.recall_score(y_test, y_gnb)],\n",
    "                         'AUC Score': [metrics.roc_auc_score(y_test, y_lr),\n",
    "                                        metrics.roc_auc_score(y_test, y_rf),\n",
    "                                        metrics.roc_auc_score(y_test, y_knn),\n",
    "                                        metrics.roc_auc_score(y_test, y_gnb)]})\n",
    "acc_table.style.set_caption(\"Model Evaluation Table Using All Features\")"
   ]
  },
  {
   "cell_type": "code",
   "execution_count": 13,
   "id": "2ea84b93",
   "metadata": {},
   "outputs": [
    {
     "name": "stdout",
     "output_type": "stream",
     "text": [
      "<class 'pandas.core.frame.DataFrame'>\n",
      "RangeIndex: 71151 entries, 0 to 71150\n",
      "Data columns (total 6 columns):\n",
      " #   Column     Non-Null Count  Dtype  \n",
      "---  ------     --------------  -----  \n",
      " 0   HighBP     71151 non-null  float64\n",
      " 1   HighChol   71151 non-null  float64\n",
      " 2   CholCheck  71151 non-null  float64\n",
      " 3   BMI        71151 non-null  float64\n",
      " 4   Stroke     71151 non-null  float64\n",
      " 5   Diabetes   71151 non-null  float64\n",
      "dtypes: float64(6)\n",
      "memory usage: 3.3 MB\n"
     ]
    }
   ],
   "source": [
    "uncorr_features = x_under.drop(to_drop, axis=1)\n",
    "uncorr_features.info()"
   ]
  },
  {
   "cell_type": "code",
   "execution_count": 14,
   "id": "8a5110d9",
   "metadata": {},
   "outputs": [],
   "source": [
    "scaled_selected = scaler.fit_transform(uncorr_features)"
   ]
  },
  {
   "cell_type": "code",
   "execution_count": 15,
   "id": "95f15e75",
   "metadata": {},
   "outputs": [],
   "source": [
    "X_trn, X_tst, y_trn, y_tst = train_test_split(scaled_selected, y_under, test_size=0.20, random_state = 41)"
   ]
  },
  {
   "cell_type": "code",
   "execution_count": 16,
   "id": "df94da91",
   "metadata": {},
   "outputs": [
    {
     "name": "stdout",
     "output_type": "stream",
     "text": [
      "Logistic Regression Classifier Accuracy:  0.7210315508397162\n",
      "Logistic Regression Classifier Precision:  0.6476074614760746\n",
      "Logistic Regression Classifier Recall:  0.3399318859088974\n",
      "Logistic Regression Classifier AUC Score:  0.6243874262230944\n"
     ]
    }
   ],
   "source": [
    "lr.fit(X_trn, y_trn)\n",
    "yh_lr = lr.predict(X_tst)\n",
    "print(\"Logistic Regression Classifier Accuracy: \", metrics.accuracy_score(y_tst, yh_lr))\n",
    "print(\"Logistic Regression Classifier Precision: \", metrics.precision_score(y_tst, yh_lr))\n",
    "print(\"Logistic Regression Classifier Recall: \", metrics.recall_score(y_tst, yh_lr))\n",
    "print(\"Logistic Regression Classifier AUC Score: \", metrics.roc_auc_score(y_tst, yh_lr))"
   ]
  },
  {
   "cell_type": "code",
   "execution_count": 17,
   "id": "ea4156da",
   "metadata": {},
   "outputs": [
    {
     "name": "stdout",
     "output_type": "stream",
     "text": [
      "Random Forest Classifier Accuracy:  0.7159019042934439\n",
      "Random Forest Classifier Precision:  0.6135181975736569\n",
      "Random Forest Classifier Recall:  0.3767560664112388\n",
      "Random Forest Classifier AUC Score:  0.629896967434089\n"
     ]
    }
   ],
   "source": [
    "rf.fit(X_trn, y_trn)\n",
    "yh_rf = rf.predict(X_tst)\n",
    "print(\"Random Forest Classifier Accuracy: \", metrics.accuracy_score(y_tst, yh_rf))\n",
    "print(\"Random Forest Classifier Precision: \", metrics.precision_score(y_tst, yh_rf))\n",
    "print(\"Random Forest Classifier Recall: \", metrics.recall_score(y_tst, yh_rf))\n",
    "print(\"Random Forest Classifier AUC Score: \", metrics.roc_auc_score(y_tst, yh_rf))"
   ]
  },
  {
   "cell_type": "code",
   "execution_count": 18,
   "id": "85edae1f",
   "metadata": {},
   "outputs": [
    {
     "name": "stdout",
     "output_type": "stream",
     "text": [
      "KNN Classifier Accuracy:  0.6867402150235402\n",
      "KNN Classifier Precision:  0.5541516245487365\n",
      "KNN Classifier Recall:  0.2613878246062154\n",
      "KNN Classifier AUC Score:  0.5788739185970341\n"
     ]
    }
   ],
   "source": [
    "knn.fit(X_trn, y_trn)\n",
    "yh_knn = knn.predict(X_tst)\n",
    "print(\"KNN Classifier Accuracy: \", metrics.accuracy_score(y_tst, yh_knn))\n",
    "print(\"KNN Classifier Precision: \", metrics.precision_score(y_tst, yh_knn))\n",
    "print(\"KNN Classifier Recall: \", metrics.recall_score(y_tst, yh_knn))\n",
    "print(\"KNN Classifier AUC Score: \", metrics.roc_auc_score(y_tst, yh_knn))"
   ]
  },
  {
   "cell_type": "code",
   "execution_count": 19,
   "id": "84d9d4fc",
   "metadata": {},
   "outputs": [
    {
     "name": "stdout",
     "output_type": "stream",
     "text": [
      "Gaussian Naive Bayes Classifier Accuracy:  0.7112641416625677\n",
      "Gaussian Naive Bayes Classifier Precision:  0.5789332618600911\n",
      "Gaussian Naive Bayes Classifier Recall:  0.45977011494252873\n",
      "Gaussian Naive Bayes Classifier F1 Score:  0.6474870715276999\n"
     ]
    }
   ],
   "source": [
    "gnb.fit(X_trn, y_trn)\n",
    "yh_gnb = gnb.predict(X_tst)\n",
    "print(\"Gaussian Naive Bayes Classifier Accuracy: \", metrics.accuracy_score(y_tst, yh_gnb))\n",
    "print(\"Gaussian Naive Bayes Classifier Precision: \", metrics.precision_score(y_tst, yh_gnb))\n",
    "print(\"Gaussian Naive Bayes Classifier Recall: \", metrics.recall_score(y_tst, yh_gnb))\n",
    "print(\"Gaussian Naive Bayes Classifier F1 Score: \", metrics.roc_auc_score(y_tst, yh_gnb))"
   ]
  },
  {
   "cell_type": "code",
   "execution_count": 20,
   "id": "32ffdc26",
   "metadata": {},
   "outputs": [
    {
     "data": {
      "text/html": [
       "<style type=\"text/css\">\n",
       "</style>\n",
       "<table id=\"T_bf25c\">\n",
       "  <caption>Model Evaluation Table Using Un-Correlated Features</caption>\n",
       "  <thead>\n",
       "    <tr>\n",
       "      <th class=\"blank level0\" >&nbsp;</th>\n",
       "      <th id=\"T_bf25c_level0_col0\" class=\"col_heading level0 col0\" >Model</th>\n",
       "      <th id=\"T_bf25c_level0_col1\" class=\"col_heading level0 col1\" >Accuracy</th>\n",
       "      <th id=\"T_bf25c_level0_col2\" class=\"col_heading level0 col2\" >Precision</th>\n",
       "      <th id=\"T_bf25c_level0_col3\" class=\"col_heading level0 col3\" >Recall</th>\n",
       "      <th id=\"T_bf25c_level0_col4\" class=\"col_heading level0 col4\" >AUC Score</th>\n",
       "    </tr>\n",
       "  </thead>\n",
       "  <tbody>\n",
       "    <tr>\n",
       "      <th id=\"T_bf25c_level0_row0\" class=\"row_heading level0 row0\" >0</th>\n",
       "      <td id=\"T_bf25c_row0_col0\" class=\"data row0 col0\" >Logisitic Regression</td>\n",
       "      <td id=\"T_bf25c_row0_col1\" class=\"data row0 col1\" >0.721032</td>\n",
       "      <td id=\"T_bf25c_row0_col2\" class=\"data row0 col2\" >0.647607</td>\n",
       "      <td id=\"T_bf25c_row0_col3\" class=\"data row0 col3\" >0.339932</td>\n",
       "      <td id=\"T_bf25c_row0_col4\" class=\"data row0 col4\" >0.624387</td>\n",
       "    </tr>\n",
       "    <tr>\n",
       "      <th id=\"T_bf25c_level0_row1\" class=\"row_heading level0 row1\" >1</th>\n",
       "      <td id=\"T_bf25c_row1_col0\" class=\"data row1 col0\" >Random Forest Classifier</td>\n",
       "      <td id=\"T_bf25c_row1_col1\" class=\"data row1 col1\" >0.715902</td>\n",
       "      <td id=\"T_bf25c_row1_col2\" class=\"data row1 col2\" >0.613518</td>\n",
       "      <td id=\"T_bf25c_row1_col3\" class=\"data row1 col3\" >0.376756</td>\n",
       "      <td id=\"T_bf25c_row1_col4\" class=\"data row1 col4\" >0.629897</td>\n",
       "    </tr>\n",
       "    <tr>\n",
       "      <th id=\"T_bf25c_level0_row2\" class=\"row_heading level0 row2\" >2</th>\n",
       "      <td id=\"T_bf25c_row2_col0\" class=\"data row2 col0\" >K-NN Classifier</td>\n",
       "      <td id=\"T_bf25c_row2_col1\" class=\"data row2 col1\" >0.686740</td>\n",
       "      <td id=\"T_bf25c_row2_col2\" class=\"data row2 col2\" >0.554152</td>\n",
       "      <td id=\"T_bf25c_row2_col3\" class=\"data row2 col3\" >0.261388</td>\n",
       "      <td id=\"T_bf25c_row2_col4\" class=\"data row2 col4\" >0.578874</td>\n",
       "    </tr>\n",
       "    <tr>\n",
       "      <th id=\"T_bf25c_level0_row3\" class=\"row_heading level0 row3\" >3</th>\n",
       "      <td id=\"T_bf25c_row3_col0\" class=\"data row3 col0\" >Gaussian NB Classifier</td>\n",
       "      <td id=\"T_bf25c_row3_col1\" class=\"data row3 col1\" >0.711264</td>\n",
       "      <td id=\"T_bf25c_row3_col2\" class=\"data row3 col2\" >0.578933</td>\n",
       "      <td id=\"T_bf25c_row3_col3\" class=\"data row3 col3\" >0.459770</td>\n",
       "      <td id=\"T_bf25c_row3_col4\" class=\"data row3 col4\" >0.647487</td>\n",
       "    </tr>\n",
       "  </tbody>\n",
       "</table>\n"
      ],
      "text/plain": [
       "<pandas.io.formats.style.Styler at 0x15c35d3bb80>"
      ]
     },
     "execution_count": 20,
     "metadata": {},
     "output_type": "execute_result"
    }
   ],
   "source": [
    "acc_table = pd.DataFrame({'Model': ['Logisitic Regression',\n",
    "                                   'Random Forest Classifier',\n",
    "                                   'K-NN Classifier',\n",
    "                                   'Gaussian NB Classifier'],\n",
    "                         'Accuracy': [metrics.accuracy_score(y_tst, yh_lr),\n",
    "                                           metrics.accuracy_score(y_tst, yh_rf),\n",
    "                                           metrics.accuracy_score(y_tst, yh_knn),\n",
    "                                     metrics.accuracy_score(y_tst, yh_gnb)],\n",
    "                         'Precision': [metrics.precision_score(y_tst, yh_lr),\n",
    "                                            metrics.precision_score(y_tst, yh_rf),\n",
    "                                            metrics.precision_score(y_tst, yh_knn),\n",
    "                                      metrics.precision_score(y_tst, yh_gnb)],\n",
    "                         'Recall': [metrics.recall_score(y_tst, yh_lr),\n",
    "                                         metrics.recall_score(y_tst, yh_rf),\n",
    "                                         metrics.recall_score(y_tst, yh_knn),\n",
    "                                   metrics.recall_score(y_tst, yh_gnb)],\n",
    "                         'AUC Score': [metrics.roc_auc_score(y_tst, yh_lr),\n",
    "                                     metrics.roc_auc_score(y_tst, yh_rf),\n",
    "                                     metrics.roc_auc_score(y_tst, yh_knn),\n",
    "                                      metrics.roc_auc_score(y_tst, yh_gnb)]})\n",
    "acc_table.style.set_caption(\"Model Evaluation Table Using Un-Correlated Features\")"
   ]
  }
 ],
 "metadata": {
  "kernelspec": {
   "display_name": "Python 3 (ipykernel)",
   "language": "python",
   "name": "python3"
  },
  "language_info": {
   "codemirror_mode": {
    "name": "ipython",
    "version": 3
   },
   "file_extension": ".py",
   "mimetype": "text/x-python",
   "name": "python",
   "nbconvert_exporter": "python",
   "pygments_lexer": "ipython3",
   "version": "3.9.16"
  }
 },
 "nbformat": 4,
 "nbformat_minor": 5
}
