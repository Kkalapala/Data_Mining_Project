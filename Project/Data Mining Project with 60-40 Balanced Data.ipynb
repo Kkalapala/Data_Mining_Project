{
 "cells": [
  {
   "cell_type": "code",
   "execution_count": 1,
   "id": "e6bc2bf0",
   "metadata": {},
   "outputs": [],
   "source": [
    "import numpy as np\n",
    "import pandas as pd\n",
    "import seaborn as sns\n",
    "import matplotlib.pyplot as plt\n",
    "\n",
    "from sklearn.model_selection import train_test_split\n",
    "from sklearn import metrics\n",
    "from sklearn.preprocessing import StandardScaler\n",
    "from sklearn.decomposition import PCA"
   ]
  },
  {
   "cell_type": "code",
   "execution_count": 2,
   "id": "283847be",
   "metadata": {},
   "outputs": [],
   "source": [
    "heart_df = pd.read_csv('./heart_df_cleaned.csv')\n",
    "ori_df = pd.read_csv('./heart_disease_health_indicators_BRFSS2015.csv')"
   ]
  },
  {
   "cell_type": "code",
   "execution_count": 3,
   "id": "225b53ef",
   "metadata": {},
   "outputs": [
    {
     "name": "stdout",
     "output_type": "stream",
     "text": [
      "Target distribution(%):\n",
      "0.0    89.68\n",
      "1.0    10.32\n",
      "Name: HeartDiseaseorAttack, dtype: float64\n"
     ]
    }
   ],
   "source": [
    "print('Target distribution(%):') \n",
    "print(np.round(heart_df['HeartDiseaseorAttack'].value_counts(normalize=True)*100, 2))"
   ]
  },
  {
   "cell_type": "code",
   "execution_count": 4,
   "id": "4e2430bd",
   "metadata": {},
   "outputs": [
    {
     "name": "stdout",
     "output_type": "stream",
     "text": [
      "Before undersampling: Counter({0.0: 206064, 1.0: 23717})\n",
      "After undersampling: Counter({0.0: 39528, 1.0: 23717})\n"
     ]
    }
   ],
   "source": [
    "from imblearn.under_sampling import RandomUnderSampler\n",
    "from collections import Counter\n",
    "\n",
    "#https://www.kaggle.com/code/hadeerismail/heart-disease-prediction#Dealing-with-the-imbalance-problem-with-multiple-ways\n",
    "under_sampler = RandomUnderSampler(sampling_strategy=0.6)\n",
    "x = heart_df.iloc[:, 1:]\n",
    "y = heart_df['HeartDiseaseorAttack']\n",
    "x_under, y_under = under_sampler.fit_resample(x, y)\n",
    "\n",
    "print(f'Before undersampling: {Counter(heart_df[\"HeartDiseaseorAttack\"])}')\n",
    "print(f'After undersampling: {Counter(y_under)}')"
   ]
  },
  {
   "cell_type": "code",
   "execution_count": 5,
   "id": "31da4ec1",
   "metadata": {},
   "outputs": [],
   "source": [
    "cor_matrix = x_under.corr()\n",
    "upper_tri = cor_matrix.where(np.triu(np.ones(cor_matrix.shape),k=1).astype(bool))\n",
    "\n",
    "to_drop = [column for column in upper_tri.columns if any(upper_tri[column] > 0.7) or any(upper_tri[column] < 0.01)]"
   ]
  },
  {
   "cell_type": "code",
   "execution_count": 6,
   "id": "1c64070f",
   "metadata": {},
   "outputs": [],
   "source": [
    "#Data Scaling\n",
    "scaler = StandardScaler()\n",
    "scaled_features = scaler.fit_transform(x_under)"
   ]
  },
  {
   "cell_type": "code",
   "execution_count": 7,
   "id": "ad59db55",
   "metadata": {},
   "outputs": [],
   "source": [
    "X_train, X_test, y_train, y_test = train_test_split(scaled_features, y_under, test_size=0.30, random_state = 41)"
   ]
  },
  {
   "cell_type": "code",
   "execution_count": 8,
   "id": "100db592",
   "metadata": {},
   "outputs": [
    {
     "name": "stdout",
     "output_type": "stream",
     "text": [
      "Logistic Regression Classifier Accuracy:  0.7606197955096448\n",
      "Logistic Regression Classifier Precision:  0.6962602614776527\n",
      "Logistic Regression Classifier Recall:  0.6428972487366648\n",
      "Logistic Regression Classifier AUC Score:  0.737144826899978\n"
     ]
    }
   ],
   "source": [
    "from sklearn.linear_model import LogisticRegression\n",
    "lr = LogisticRegression()\n",
    "lr.fit(X_train, y_train)\n",
    "y_lr = lr.predict(X_test)\n",
    "print(\"Logistic Regression Classifier Accuracy: \", metrics.accuracy_score(y_test, y_lr))\n",
    "print(\"Logistic Regression Classifier Precision: \", metrics.precision_score(y_test, y_lr))\n",
    "print(\"Logistic Regression Classifier Recall: \", metrics.recall_score(y_test, y_lr))\n",
    "print(\"Logistic Regression Classifier AUC Score: \", metrics.roc_auc_score(y_test, y_lr))"
   ]
  },
  {
   "cell_type": "code",
   "execution_count": 9,
   "id": "9b39795a",
   "metadata": {},
   "outputs": [
    {
     "name": "stdout",
     "output_type": "stream",
     "text": [
      "Random Forest Classifier Accuracy:  0.7444924633709287\n",
      "Random Forest Classifier Precision:  0.6629905471211687\n",
      "Random Forest Classifier Recall:  0.6497754070746772\n",
      "Random Forest Classifier AUC Score:  0.7256050031153977\n"
     ]
    }
   ],
   "source": [
    "from sklearn.ensemble import RandomForestClassifier\n",
    "rf = RandomForestClassifier()\n",
    "rf.fit(X_train, y_train)\n",
    "y_rf = rf.predict(X_test)\n",
    "print(\"Random Forest Classifier Accuracy: \", metrics.accuracy_score(y_test, y_rf))\n",
    "print(\"Random Forest Classifier Precision: \", metrics.precision_score(y_test, y_rf))\n",
    "print(\"Random Forest Classifier Recall: \", metrics.recall_score(y_test, y_rf))\n",
    "print(\"Random Forest Classifier AUC Score: \", metrics.roc_auc_score(y_test, y_rf))"
   ]
  },
  {
   "cell_type": "code",
   "execution_count": 10,
   "id": "d6ca6c57",
   "metadata": {},
   "outputs": [
    {
     "name": "stdout",
     "output_type": "stream",
     "text": [
      "KNN Classifier Accuracy:  0.7228312427532413\n",
      "KNN Classifier Precision:  0.6345793043729254\n",
      "KNN Classifier Recall:  0.6172094329028636\n",
      "KNN Classifier AUC Score:  0.7017692734134572\n"
     ]
    }
   ],
   "source": [
    "from sklearn.neighbors import KNeighborsClassifier\n",
    "\n",
    "knn = KNeighborsClassifier()\n",
    "knn.fit(X_train, y_train)\n",
    "y_knn = knn.predict(X_test)\n",
    "print(\"KNN Classifier Accuracy: \", metrics.accuracy_score(y_test, y_knn))\n",
    "print(\"KNN Classifier Precision: \", metrics.precision_score(y_test, y_knn))\n",
    "print(\"KNN Classifier Recall: \", metrics.recall_score(y_test, y_knn))\n",
    "print(\"KNN Classifier AUC Score: \", metrics.roc_auc_score(y_test, y_knn))"
   ]
  },
  {
   "cell_type": "code",
   "execution_count": 11,
   "id": "1f79e219",
   "metadata": {},
   "outputs": [
    {
     "name": "stdout",
     "output_type": "stream",
     "text": [
      "Gaussian Naive Bayes Classifier Accuracy:  0.7256245388426268\n",
      "Gaussian Naive Bayes Classifier Precision:  0.6287939833467634\n",
      "Gaussian Naive Bayes Classifier Recall:  0.6572150477259966\n",
      "Gaussian Naive Bayes Classifier F1 Score:  0.7119830512891586\n"
     ]
    }
   ],
   "source": [
    "from sklearn.naive_bayes import GaussianNB\n",
    "\n",
    "gnb = GaussianNB()\n",
    "gnb.fit(X_train, y_train)\n",
    "y_gnb = gnb.predict(X_test)\n",
    "print(\"Gaussian Naive Bayes Classifier Accuracy: \", metrics.accuracy_score(y_test, y_gnb))\n",
    "print(\"Gaussian Naive Bayes Classifier Precision: \", metrics.precision_score(y_test, y_gnb))\n",
    "print(\"Gaussian Naive Bayes Classifier Recall: \", metrics.recall_score(y_test, y_gnb))\n",
    "print(\"Gaussian Naive Bayes Classifier F1 Score: \", metrics.roc_auc_score(y_test, y_gnb))"
   ]
  },
  {
   "cell_type": "code",
   "execution_count": 12,
   "id": "a686d4a9",
   "metadata": {},
   "outputs": [
    {
     "data": {
      "text/html": [
       "<style type=\"text/css\">\n",
       "</style>\n",
       "<table id=\"T_15234\">\n",
       "  <caption>Model Evaluation Table Using All Features</caption>\n",
       "  <thead>\n",
       "    <tr>\n",
       "      <th class=\"blank level0\" >&nbsp;</th>\n",
       "      <th id=\"T_15234_level0_col0\" class=\"col_heading level0 col0\" >Model</th>\n",
       "      <th id=\"T_15234_level0_col1\" class=\"col_heading level0 col1\" >Accuracy</th>\n",
       "      <th id=\"T_15234_level0_col2\" class=\"col_heading level0 col2\" >Precision</th>\n",
       "      <th id=\"T_15234_level0_col3\" class=\"col_heading level0 col3\" >Recall</th>\n",
       "      <th id=\"T_15234_level0_col4\" class=\"col_heading level0 col4\" >AUC Score</th>\n",
       "    </tr>\n",
       "  </thead>\n",
       "  <tbody>\n",
       "    <tr>\n",
       "      <th id=\"T_15234_level0_row0\" class=\"row_heading level0 row0\" >0</th>\n",
       "      <td id=\"T_15234_row0_col0\" class=\"data row0 col0\" >Logisitic Regression</td>\n",
       "      <td id=\"T_15234_row0_col1\" class=\"data row0 col1\" >0.760620</td>\n",
       "      <td id=\"T_15234_row0_col2\" class=\"data row0 col2\" >0.696260</td>\n",
       "      <td id=\"T_15234_row0_col3\" class=\"data row0 col3\" >0.642897</td>\n",
       "      <td id=\"T_15234_row0_col4\" class=\"data row0 col4\" >0.737145</td>\n",
       "    </tr>\n",
       "    <tr>\n",
       "      <th id=\"T_15234_level0_row1\" class=\"row_heading level0 row1\" >1</th>\n",
       "      <td id=\"T_15234_row1_col0\" class=\"data row1 col0\" >Random Forest Classifier</td>\n",
       "      <td id=\"T_15234_row1_col1\" class=\"data row1 col1\" >0.744492</td>\n",
       "      <td id=\"T_15234_row1_col2\" class=\"data row1 col2\" >0.662991</td>\n",
       "      <td id=\"T_15234_row1_col3\" class=\"data row1 col3\" >0.649775</td>\n",
       "      <td id=\"T_15234_row1_col4\" class=\"data row1 col4\" >0.725605</td>\n",
       "    </tr>\n",
       "    <tr>\n",
       "      <th id=\"T_15234_level0_row2\" class=\"row_heading level0 row2\" >2</th>\n",
       "      <td id=\"T_15234_row2_col0\" class=\"data row2 col0\" >K-NN Classifier</td>\n",
       "      <td id=\"T_15234_row2_col1\" class=\"data row2 col1\" >0.722831</td>\n",
       "      <td id=\"T_15234_row2_col2\" class=\"data row2 col2\" >0.634579</td>\n",
       "      <td id=\"T_15234_row2_col3\" class=\"data row2 col3\" >0.617209</td>\n",
       "      <td id=\"T_15234_row2_col4\" class=\"data row2 col4\" >0.701769</td>\n",
       "    </tr>\n",
       "    <tr>\n",
       "      <th id=\"T_15234_level0_row3\" class=\"row_heading level0 row3\" >3</th>\n",
       "      <td id=\"T_15234_row3_col0\" class=\"data row3 col0\" >Gaussian NB Classifier</td>\n",
       "      <td id=\"T_15234_row3_col1\" class=\"data row3 col1\" >0.725625</td>\n",
       "      <td id=\"T_15234_row3_col2\" class=\"data row3 col2\" >0.628794</td>\n",
       "      <td id=\"T_15234_row3_col3\" class=\"data row3 col3\" >0.657215</td>\n",
       "      <td id=\"T_15234_row3_col4\" class=\"data row3 col4\" >0.711983</td>\n",
       "    </tr>\n",
       "  </tbody>\n",
       "</table>\n"
      ],
      "text/plain": [
       "<pandas.io.formats.style.Styler at 0x236497babe0>"
      ]
     },
     "execution_count": 12,
     "metadata": {},
     "output_type": "execute_result"
    }
   ],
   "source": [
    "acc_table = pd.DataFrame({'Model': ['Logisitic Regression',\n",
    "                                   'Random Forest Classifier',\n",
    "                                   'K-NN Classifier',\n",
    "                                   'Gaussian NB Classifier'],\n",
    "                         'Accuracy': [metrics.accuracy_score(y_test, y_lr),\n",
    "                                        metrics.accuracy_score(y_test, y_rf),\n",
    "                                        metrics.accuracy_score(y_test, y_knn),\n",
    "                                        metrics.accuracy_score(y_test, y_gnb)],\n",
    "                         'Precision': [metrics.precision_score(y_test, y_lr),\n",
    "                                        metrics.precision_score(y_test, y_rf),\n",
    "                                        metrics.precision_score(y_test, y_knn),\n",
    "                                        metrics.precision_score(y_test, y_gnb)],\n",
    "                         'Recall': [metrics.recall_score(y_test, y_lr),\n",
    "                                        metrics.recall_score(y_test, y_rf),\n",
    "                                        metrics.recall_score(y_test, y_knn),\n",
    "                                        metrics.recall_score(y_test, y_gnb)],\n",
    "                         'AUC Score': [metrics.roc_auc_score(y_test, y_lr),\n",
    "                                        metrics.roc_auc_score(y_test, y_rf),\n",
    "                                        metrics.roc_auc_score(y_test, y_knn),\n",
    "                                        metrics.roc_auc_score(y_test, y_gnb)]})\n",
    "acc_table.style.set_caption(\"Model Evaluation Table Using All Features\")"
   ]
  },
  {
   "cell_type": "code",
   "execution_count": 13,
   "id": "0a817fd7",
   "metadata": {},
   "outputs": [
    {
     "name": "stdout",
     "output_type": "stream",
     "text": [
      "<class 'pandas.core.frame.DataFrame'>\n",
      "RangeIndex: 63245 entries, 0 to 63244\n",
      "Data columns (total 6 columns):\n",
      " #   Column     Non-Null Count  Dtype  \n",
      "---  ------     --------------  -----  \n",
      " 0   HighBP     63245 non-null  float64\n",
      " 1   HighChol   63245 non-null  float64\n",
      " 2   CholCheck  63245 non-null  float64\n",
      " 3   BMI        63245 non-null  float64\n",
      " 4   Stroke     63245 non-null  float64\n",
      " 5   Diabetes   63245 non-null  float64\n",
      "dtypes: float64(6)\n",
      "memory usage: 2.9 MB\n"
     ]
    }
   ],
   "source": [
    "uncorr_features = x_under.drop(to_drop, axis=1)\n",
    "uncorr_features.info()"
   ]
  },
  {
   "cell_type": "code",
   "execution_count": 14,
   "id": "bc2a5bca",
   "metadata": {},
   "outputs": [],
   "source": [
    "scaled_selected = scaler.fit_transform(uncorr_features)"
   ]
  },
  {
   "cell_type": "code",
   "execution_count": 15,
   "id": "bf9fa770",
   "metadata": {},
   "outputs": [],
   "source": [
    "X_trn, X_tst, y_trn, y_tst = train_test_split(scaled_selected, y_under, test_size=0.30, random_state = 41)"
   ]
  },
  {
   "cell_type": "code",
   "execution_count": 16,
   "id": "f7ff45fa",
   "metadata": {},
   "outputs": [
    {
     "name": "stdout",
     "output_type": "stream",
     "text": [
      "Logistic Regression Classifier Accuracy:  0.7007483925371562\n",
      "Logistic Regression Classifier Precision:  0.6547517123287672\n",
      "Logistic Regression Classifier Recall:  0.4293935991016283\n",
      "Logistic Regression Classifier AUC Score:  0.6466377278208564\n"
     ]
    }
   ],
   "source": [
    "lr.fit(X_trn, y_trn)\n",
    "yh_lr = lr.predict(X_tst)\n",
    "print(\"Logistic Regression Classifier Accuracy: \", metrics.accuracy_score(y_tst, yh_lr))\n",
    "print(\"Logistic Regression Classifier Precision: \", metrics.precision_score(y_tst, yh_lr))\n",
    "print(\"Logistic Regression Classifier Recall: \", metrics.recall_score(y_tst, yh_lr))\n",
    "print(\"Logistic Regression Classifier AUC Score: \", metrics.roc_auc_score(y_tst, yh_lr))"
   ]
  },
  {
   "cell_type": "code",
   "execution_count": 17,
   "id": "2fbdbd5b",
   "metadata": {},
   "outputs": [
    {
     "name": "stdout",
     "output_type": "stream",
     "text": [
      "Random Forest Classifier Accuracy:  0.6985875408453673\n",
      "Random Forest Classifier Precision:  0.59410582719357\n",
      "Random Forest Classifier Recall:  0.6225435148792813\n",
      "Random Forest Classifier AUC Score:  0.6834236561738178\n"
     ]
    }
   ],
   "source": [
    "rf.fit(X_trn, y_trn)\n",
    "yh_rf = rf.predict(X_tst)\n",
    "print(\"Random Forest Classifier Accuracy: \", metrics.accuracy_score(y_tst, yh_rf))\n",
    "print(\"Random Forest Classifier Precision: \", metrics.precision_score(y_tst, yh_rf))\n",
    "print(\"Random Forest Classifier Recall: \", metrics.recall_score(y_tst, yh_rf))\n",
    "print(\"Random Forest Classifier AUC Score: \", metrics.roc_auc_score(y_tst, yh_rf))"
   ]
  },
  {
   "cell_type": "code",
   "execution_count": 18,
   "id": "042ba74f",
   "metadata": {},
   "outputs": [
    {
     "name": "stdout",
     "output_type": "stream",
     "text": [
      "KNN Classifier Accuracy:  0.6783493201222726\n",
      "KNN Classifier Precision:  0.5782615361030201\n",
      "KNN Classifier Recall:  0.5294778214486243\n",
      "KNN Classifier AUC Score:  0.6486629613572236\n"
     ]
    }
   ],
   "source": [
    "knn.fit(X_trn, y_trn)\n",
    "yh_knn = knn.predict(X_tst)\n",
    "print(\"KNN Classifier Accuracy: \", metrics.accuracy_score(y_tst, yh_knn))\n",
    "print(\"KNN Classifier Precision: \", metrics.precision_score(y_tst, yh_knn))\n",
    "print(\"KNN Classifier Recall: \", metrics.recall_score(y_tst, yh_knn))\n",
    "print(\"KNN Classifier AUC Score: \", metrics.roc_auc_score(y_tst, yh_knn))"
   ]
  },
  {
   "cell_type": "code",
   "execution_count": 19,
   "id": "c91730dd",
   "metadata": {},
   "outputs": [
    {
     "name": "stdout",
     "output_type": "stream",
     "text": [
      "Gaussian Naive Bayes Classifier Accuracy:  0.6937915041635923\n",
      "Gaussian Naive Bayes Classifier Precision:  0.599065138721351\n",
      "Gaussian Naive Bayes Classifier Recall:  0.5576923076923077\n",
      "Gaussian Naive Bayes Classifier F1 Score:  0.6666520610191496\n"
     ]
    }
   ],
   "source": [
    "gnb.fit(X_trn, y_trn)\n",
    "yh_gnb = gnb.predict(X_tst)\n",
    "print(\"Gaussian Naive Bayes Classifier Accuracy: \", metrics.accuracy_score(y_tst, yh_gnb))\n",
    "print(\"Gaussian Naive Bayes Classifier Precision: \", metrics.precision_score(y_tst, yh_gnb))\n",
    "print(\"Gaussian Naive Bayes Classifier Recall: \", metrics.recall_score(y_tst, yh_gnb))\n",
    "print(\"Gaussian Naive Bayes Classifier F1 Score: \", metrics.roc_auc_score(y_tst, yh_gnb))"
   ]
  },
  {
   "cell_type": "code",
   "execution_count": 20,
   "id": "e66ecca1",
   "metadata": {},
   "outputs": [
    {
     "data": {
      "text/html": [
       "<style type=\"text/css\">\n",
       "</style>\n",
       "<table id=\"T_60d83\">\n",
       "  <caption>Model Evaluation Table Using Un-Correlated Features</caption>\n",
       "  <thead>\n",
       "    <tr>\n",
       "      <th class=\"blank level0\" >&nbsp;</th>\n",
       "      <th id=\"T_60d83_level0_col0\" class=\"col_heading level0 col0\" >Model</th>\n",
       "      <th id=\"T_60d83_level0_col1\" class=\"col_heading level0 col1\" >Accuracy</th>\n",
       "      <th id=\"T_60d83_level0_col2\" class=\"col_heading level0 col2\" >Precision</th>\n",
       "      <th id=\"T_60d83_level0_col3\" class=\"col_heading level0 col3\" >Recall</th>\n",
       "      <th id=\"T_60d83_level0_col4\" class=\"col_heading level0 col4\" >AUC Score</th>\n",
       "    </tr>\n",
       "  </thead>\n",
       "  <tbody>\n",
       "    <tr>\n",
       "      <th id=\"T_60d83_level0_row0\" class=\"row_heading level0 row0\" >0</th>\n",
       "      <td id=\"T_60d83_row0_col0\" class=\"data row0 col0\" >Logisitic Regression</td>\n",
       "      <td id=\"T_60d83_row0_col1\" class=\"data row0 col1\" >0.700748</td>\n",
       "      <td id=\"T_60d83_row0_col2\" class=\"data row0 col2\" >0.654752</td>\n",
       "      <td id=\"T_60d83_row0_col3\" class=\"data row0 col3\" >0.429394</td>\n",
       "      <td id=\"T_60d83_row0_col4\" class=\"data row0 col4\" >0.646638</td>\n",
       "    </tr>\n",
       "    <tr>\n",
       "      <th id=\"T_60d83_level0_row1\" class=\"row_heading level0 row1\" >1</th>\n",
       "      <td id=\"T_60d83_row1_col0\" class=\"data row1 col0\" >Random Forest Classifier</td>\n",
       "      <td id=\"T_60d83_row1_col1\" class=\"data row1 col1\" >0.698588</td>\n",
       "      <td id=\"T_60d83_row1_col2\" class=\"data row1 col2\" >0.594106</td>\n",
       "      <td id=\"T_60d83_row1_col3\" class=\"data row1 col3\" >0.622544</td>\n",
       "      <td id=\"T_60d83_row1_col4\" class=\"data row1 col4\" >0.683424</td>\n",
       "    </tr>\n",
       "    <tr>\n",
       "      <th id=\"T_60d83_level0_row2\" class=\"row_heading level0 row2\" >2</th>\n",
       "      <td id=\"T_60d83_row2_col0\" class=\"data row2 col0\" >K-NN Classifier</td>\n",
       "      <td id=\"T_60d83_row2_col1\" class=\"data row2 col1\" >0.678349</td>\n",
       "      <td id=\"T_60d83_row2_col2\" class=\"data row2 col2\" >0.578262</td>\n",
       "      <td id=\"T_60d83_row2_col3\" class=\"data row2 col3\" >0.529478</td>\n",
       "      <td id=\"T_60d83_row2_col4\" class=\"data row2 col4\" >0.648663</td>\n",
       "    </tr>\n",
       "    <tr>\n",
       "      <th id=\"T_60d83_level0_row3\" class=\"row_heading level0 row3\" >3</th>\n",
       "      <td id=\"T_60d83_row3_col0\" class=\"data row3 col0\" >Gaussian NB Classifier</td>\n",
       "      <td id=\"T_60d83_row3_col1\" class=\"data row3 col1\" >0.693792</td>\n",
       "      <td id=\"T_60d83_row3_col2\" class=\"data row3 col2\" >0.599065</td>\n",
       "      <td id=\"T_60d83_row3_col3\" class=\"data row3 col3\" >0.557692</td>\n",
       "      <td id=\"T_60d83_row3_col4\" class=\"data row3 col4\" >0.666652</td>\n",
       "    </tr>\n",
       "  </tbody>\n",
       "</table>\n"
      ],
      "text/plain": [
       "<pandas.io.formats.style.Styler at 0x23649811880>"
      ]
     },
     "execution_count": 20,
     "metadata": {},
     "output_type": "execute_result"
    }
   ],
   "source": [
    "acc_table = pd.DataFrame({'Model': ['Logisitic Regression',\n",
    "                                   'Random Forest Classifier',\n",
    "                                   'K-NN Classifier',\n",
    "                                   'Gaussian NB Classifier'],\n",
    "                         'Accuracy': [metrics.accuracy_score(y_tst, yh_lr),\n",
    "                                           metrics.accuracy_score(y_tst, yh_rf),\n",
    "                                           metrics.accuracy_score(y_tst, yh_knn),\n",
    "                                     metrics.accuracy_score(y_tst, yh_gnb)],\n",
    "                         'Precision': [metrics.precision_score(y_tst, yh_lr),\n",
    "                                            metrics.precision_score(y_tst, yh_rf),\n",
    "                                            metrics.precision_score(y_tst, yh_knn),\n",
    "                                      metrics.precision_score(y_tst, yh_gnb)],\n",
    "                         'Recall': [metrics.recall_score(y_tst, yh_lr),\n",
    "                                         metrics.recall_score(y_tst, yh_rf),\n",
    "                                         metrics.recall_score(y_tst, yh_knn),\n",
    "                                   metrics.recall_score(y_tst, yh_gnb)],\n",
    "                         'AUC Score': [metrics.roc_auc_score(y_tst, yh_lr),\n",
    "                                     metrics.roc_auc_score(y_tst, yh_rf),\n",
    "                                     metrics.roc_auc_score(y_tst, yh_knn),\n",
    "                                      metrics.roc_auc_score(y_tst, yh_gnb)]})\n",
    "acc_table.style.set_caption(\"Model Evaluation Table Using Un-Correlated Features\")"
   ]
  }
 ],
 "metadata": {
  "kernelspec": {
   "display_name": "Python 3 (ipykernel)",
   "language": "python",
   "name": "python3"
  },
  "language_info": {
   "codemirror_mode": {
    "name": "ipython",
    "version": 3
   },
   "file_extension": ".py",
   "mimetype": "text/x-python",
   "name": "python",
   "nbconvert_exporter": "python",
   "pygments_lexer": "ipython3",
   "version": "3.9.16"
  }
 },
 "nbformat": 4,
 "nbformat_minor": 5
}
